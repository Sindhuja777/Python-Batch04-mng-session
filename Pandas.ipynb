{
 "cells": [
  {
   "cell_type": "markdown",
   "metadata": {},
   "source": [
    "### Date : 20-08-2020\n",
    "\n",
    "## Day Objectives\n",
    "\n",
    "## Pandas Library in Python\n",
    " - Series - One Dimensional\n",
    " - DataFrame - Two Dimensional\n",
    " \n",
    " - **Basic Methods in Series**\n",
    "\n",
    "    - Series.index - The index (axis labels) of the Series.\n",
    "\n",
    "    - Series.array - The ExtensionArray of the data backing this Series or Index.\n",
    "\n",
    "    - Series.values - Return Series as ndarray or ndarray-like depending on the dtype.\n",
    "\n",
    "    - Series.dtype - Return the dtype object of the underlying data.\n",
    "\n",
    "    - Series.shape - Return a tuple of the shape of the underlying data.\n",
    "\n",
    "    - Series.nbytes - Return the number of bytes in the underlying data.\n",
    "\n",
    "    - Series.ndim - Number of dimensions of the underlying data, by definition 1.\n",
    "\n",
    "    - Series.size - Return the number of elements in the underlying data.\n",
    "\n",
    "\n",
    "- DataFrames\n",
    "\n",
    "- DataFrame.index - The index (row labels) of the DataFrame.\n",
    "\n",
    "- DataFrame.columns - The column labels of the DataFrame.\n",
    "\n",
    "- DataFrame.dtypes - Return the dtypes in the DataFrame.\n",
    "\n",
    "- DataFrame.info([verbose, buf, max_cols, …]) - Print a concise summary of a DataFrame.\n",
    "\n",
    "- DataFrame.select_dtypes([include, exclude]) - Return a subset of the DataFrame’s columns based on the column dtypes.\n",
    "\n",
    "- DataFrame.values - Return a Numpy representation of the DataFrame.\n",
    "\n",
    "- DataFrame.axes - Return a list representing the axes of the DataFrame.\n",
    "\n",
    "- DataFrame.ndim - Return an int representing the number of axes / array dimensions.\n",
    "\n",
    "- DataFrame.size - Return an int representing the number of elements in this object.\n",
    "\n",
    "- DataFrame.shape - Return a tuple representing the dimensionality of the DataFrame."
   ]
  },
  {
   "cell_type": "markdown",
   "metadata": {},
   "source": [
    "## Creating Series"
   ]
  },
  {
   "cell_type": "code",
   "execution_count": 11,
   "metadata": {
    "scrolled": false
   },
   "outputs": [
    {
     "name": "stdout",
     "output_type": "stream",
     "text": [
      "3\n",
      "2    3\n",
      "3    4\n",
      "4    5\n",
      "dtype: int64\n"
     ]
    }
   ],
   "source": [
    "import pandas as pd\n",
    "s1 = pd.Series([1,2,3,4,5])\n",
    "s1\n",
    "print(s1[2])\n",
    "print(s1[2:])"
   ]
  },
  {
   "cell_type": "code",
   "execution_count": 9,
   "metadata": {
    "scrolled": true
   },
   "outputs": [
    {
     "name": "stdout",
     "output_type": "stream",
     "text": [
      "['a' 'b' 'c' 'd']\n",
      "RangeIndex(start=0, stop=4, step=1)\n",
      "(4,)\n",
      "4\n",
      "1\n"
     ]
    }
   ],
   "source": [
    "s2 = pd.Series(['a','b','c','d'])\n",
    "s2\n",
    "print(s2.values)\n",
    "print(s2.index)\n",
    "print(s2.shape)\n",
    "print(s2.size)\n",
    "print(s2.ndim)"
   ]
  },
  {
   "cell_type": "code",
   "execution_count": 19,
   "metadata": {},
   "outputs": [
    {
     "name": "stdout",
     "output_type": "stream",
     "text": [
      "11    a\n",
      "22    b\n",
      "33    c\n",
      "44    d\n",
      "dtype: object\n"
     ]
    }
   ],
   "source": [
    "import pandas as pd\n",
    "import numpy as np\n",
    "data = np.array(['a','b','c','d'])\n",
    "ind  = [11,22,33,44]\n",
    "s = pd.Series(data,index = ind)\n",
    "print(s)"
   ]
  },
  {
   "cell_type": "markdown",
   "metadata": {},
   "source": [
    "## Indexing Series"
   ]
  },
  {
   "cell_type": "code",
   "execution_count": 13,
   "metadata": {
    "scrolled": false
   },
   "outputs": [
    {
     "name": "stdout",
     "output_type": "stream",
     "text": [
      "0    1\n",
      "1    3\n",
      "2    5\n",
      "3    7\n",
      "dtype: int64\n"
     ]
    }
   ],
   "source": [
    "import pandas as pd\n",
    "s3 = pd.Series([1,3,5,7])\n",
    "print(s3)"
   ]
  },
  {
   "cell_type": "code",
   "execution_count": 18,
   "metadata": {
    "scrolled": true
   },
   "outputs": [
    {
     "data": {
      "text/plain": [
       "a    3\n",
       "b    5\n",
       "c    7\n",
       "dtype: int64"
      ]
     },
     "execution_count": 18,
     "metadata": {},
     "output_type": "execute_result"
    }
   ],
   "source": [
    "# Program to print numbers series with indices of alphabets\n",
    "import pandas as pd\n",
    "pd.Series([3,5,7],index = ['a','b','c'])"
   ]
  },
  {
   "cell_type": "code",
   "execution_count": 21,
   "metadata": {
    "scrolled": false
   },
   "outputs": [
    {
     "data": {
      "text/plain": [
       "2020-08-17    20\n",
       "2020-08-18    21\n",
       "2020-08-19    22\n",
       "2020-08-20    23\n",
       "2020-08-21    24\n",
       "Freq: D, dtype: int64"
      ]
     },
     "execution_count": 21,
     "metadata": {},
     "output_type": "execute_result"
    }
   ],
   "source": [
    "# Program to print numbers with the index of date (20200820 to 20200825)\n",
    "pd.Series([20,21,22,23,24],index = pd.date_range('20200817','20200821'))"
   ]
  },
  {
   "cell_type": "code",
   "execution_count": 22,
   "metadata": {
    "scrolled": true
   },
   "outputs": [
    {
     "data": {
      "text/plain": [
       "Day 1   2020-08-03\n",
       "Day 2   2020-08-04\n",
       "Day 3   2020-08-05\n",
       "Day 4   2020-08-06\n",
       "Day 5   2020-08-07\n",
       "Day 6   2020-08-08\n",
       "Day 7   2020-08-09\n",
       "dtype: datetime64[ns]"
      ]
     },
     "execution_count": 22,
     "metadata": {},
     "output_type": "execute_result"
    }
   ],
   "source": [
    "pd.Series(pd.date_range('20200803','20200809'),index = ['Day 1','Day 2','Day 3','Day 4','Day 5','Day 6','Day 7'])"
   ]
  },
  {
   "cell_type": "code",
   "execution_count": 30,
   "metadata": {
    "scrolled": false
   },
   "outputs": [
    {
     "data": {
      "text/plain": [
       "1       1\n",
       "2       4\n",
       "3       9\n",
       "4      16\n",
       "5      25\n",
       "6      36\n",
       "7      49\n",
       "8      64\n",
       "9      81\n",
       "10    100\n",
       "dtype: int32"
      ]
     },
     "execution_count": 30,
     "metadata": {},
     "output_type": "execute_result"
    }
   ],
   "source": [
    "# Program to print square of the numbers with indices by using numpy\n",
    "import numpy as np\n",
    "import pandas as pd\n",
    "s1 = pd.Series(np.array(range(1,11))**2,index = range(1,11))\n",
    "s1"
   ]
  },
  {
   "cell_type": "code",
   "execution_count": 25,
   "metadata": {
    "scrolled": true
   },
   "outputs": [
    {
     "data": {
      "text/plain": [
       "True"
      ]
     },
     "execution_count": 25,
     "metadata": {},
     "output_type": "execute_result"
    }
   ],
   "source": [
    "# Creating Nan values and checking\n",
    "import numpy as np\n",
    "import pandas as pd\n",
    "pd.isna('dog')\n",
    "\n",
    "pd.isna(pd.NA)\n",
    "\n",
    "pd.isna(np.nan)"
   ]
  },
  {
   "cell_type": "markdown",
   "metadata": {},
   "source": [
    "## Creating and Finding the missing values"
   ]
  },
  {
   "cell_type": "code",
   "execution_count": 21,
   "metadata": {},
   "outputs": [
    {
     "name": "stdout",
     "output_type": "stream",
     "text": [
      "[[ 1. nan  3.]\n",
      " [ 4.  5. nan]]\n",
      "[[False  True False]\n",
      " [False False  True]]\n"
     ]
    }
   ],
   "source": [
    "import numpy as np\n",
    "import pandas\n",
    "array = np.array([[1, np.nan, 3], [4, 5, np.nan]])\n",
    "print(array)\n",
    "print(pd.isna(array))"
   ]
  },
  {
   "cell_type": "markdown",
   "metadata": {},
   "source": [
    "## DataFrames"
   ]
  },
  {
   "cell_type": "code",
   "execution_count": 33,
   "metadata": {
    "scrolled": true
   },
   "outputs": [
    {
     "data": {
      "text/html": [
       "<div>\n",
       "<style scoped>\n",
       "    .dataframe tbody tr th:only-of-type {\n",
       "        vertical-align: middle;\n",
       "    }\n",
       "\n",
       "    .dataframe tbody tr th {\n",
       "        vertical-align: top;\n",
       "    }\n",
       "\n",
       "    .dataframe thead th {\n",
       "        text-align: right;\n",
       "    }\n",
       "</style>\n",
       "<table border=\"1\" class=\"dataframe\">\n",
       "  <thead>\n",
       "    <tr style=\"text-align: right;\">\n",
       "      <th></th>\n",
       "      <th>Name</th>\n",
       "      <th>Age</th>\n",
       "      <th>Occupation</th>\n",
       "    </tr>\n",
       "  </thead>\n",
       "  <tbody>\n",
       "    <tr>\n",
       "      <th>p1</th>\n",
       "      <td>Alex</td>\n",
       "      <td>30</td>\n",
       "      <td>Doctor</td>\n",
       "    </tr>\n",
       "    <tr>\n",
       "      <th>p2</th>\n",
       "      <td>Alisa</td>\n",
       "      <td>23</td>\n",
       "      <td>Teacher</td>\n",
       "    </tr>\n",
       "    <tr>\n",
       "      <th>p3</th>\n",
       "      <td>Alice</td>\n",
       "      <td>31</td>\n",
       "      <td>Engineer</td>\n",
       "    </tr>\n",
       "  </tbody>\n",
       "</table>\n",
       "</div>"
      ],
      "text/plain": [
       "     Name  Age Occupation\n",
       "p1   Alex   30     Doctor\n",
       "p2  Alisa   23    Teacher\n",
       "p3  Alice   31   Engineer"
      ]
     },
     "execution_count": 33,
     "metadata": {},
     "output_type": "execute_result"
    }
   ],
   "source": [
    "# Creating DataFrames by using Lists\n",
    "import pandas as pd\n",
    "data = [['Alex',30,'Doctor'],['Alisa',23,'Teacher'],['Alice',31,'Engineer']]\n",
    "df = pd.DataFrame(data,columns = ['Name','Age','Occupation'],index = ['p1','p2','p3'])\n",
    "df"
   ]
  },
  {
   "cell_type": "code",
   "execution_count": 29,
   "metadata": {
    "scrolled": false
   },
   "outputs": [
    {
     "name": "stdout",
     "output_type": "stream",
     "text": [
      "s1    35\n",
      "s2    25\n",
      "s3    30\n",
      "dtype: int64\n",
      "s2    15\n",
      "s3    20\n",
      "s4    10\n",
      "dtype: int64\n"
     ]
    }
   ],
   "source": [
    "# Creating DF using Dictionaries\n",
    "import pandas\n",
    "internal1 = {'s1':35,'s2':25,'s3':30}\n",
    "print(pd.Series(internal1))\n",
    "internal2 = {'s2':15,'s3':20,'s4':10}\n",
    "print(pd.Series(internal2))"
   ]
  },
  {
   "cell_type": "code",
   "execution_count": 31,
   "metadata": {
    "scrolled": false
   },
   "outputs": [
    {
     "name": "stdout",
     "output_type": "stream",
     "text": [
      "    Internal1  Internal2\n",
      "s1       35.0        NaN\n",
      "s2       25.0       15.0\n",
      "s3       30.0       20.0\n",
      "s4        NaN       10.0\n"
     ]
    },
    {
     "data": {
      "text/html": [
       "<div>\n",
       "<style scoped>\n",
       "    .dataframe tbody tr th:only-of-type {\n",
       "        vertical-align: middle;\n",
       "    }\n",
       "\n",
       "    .dataframe tbody tr th {\n",
       "        vertical-align: top;\n",
       "    }\n",
       "\n",
       "    .dataframe thead th {\n",
       "        text-align: right;\n",
       "    }\n",
       "</style>\n",
       "<table border=\"1\" class=\"dataframe\">\n",
       "  <thead>\n",
       "    <tr style=\"text-align: right;\">\n",
       "      <th></th>\n",
       "      <th>Internal1</th>\n",
       "      <th>Internal2</th>\n",
       "    </tr>\n",
       "  </thead>\n",
       "  <tbody>\n",
       "    <tr>\n",
       "      <th>s1</th>\n",
       "      <td>False</td>\n",
       "      <td>True</td>\n",
       "    </tr>\n",
       "    <tr>\n",
       "      <th>s2</th>\n",
       "      <td>False</td>\n",
       "      <td>False</td>\n",
       "    </tr>\n",
       "    <tr>\n",
       "      <th>s3</th>\n",
       "      <td>False</td>\n",
       "      <td>False</td>\n",
       "    </tr>\n",
       "    <tr>\n",
       "      <th>s4</th>\n",
       "      <td>True</td>\n",
       "      <td>False</td>\n",
       "    </tr>\n",
       "  </tbody>\n",
       "</table>\n",
       "</div>"
      ],
      "text/plain": [
       "    Internal1  Internal2\n",
       "s1      False       True\n",
       "s2      False      False\n",
       "s3      False      False\n",
       "s4       True      False"
      ]
     },
     "execution_count": 31,
     "metadata": {},
     "output_type": "execute_result"
    }
   ],
   "source": [
    "final = {'Internal1':internal1,'Internal2':internal2}\n",
    "final = pd.DataFrame(final)\n",
    "print(final)\n",
    "pd.isna(final)"
   ]
  },
  {
   "cell_type": "code",
   "execution_count": 36,
   "metadata": {},
   "outputs": [
    {
     "data": {
      "text/html": [
       "<div>\n",
       "<style scoped>\n",
       "    .dataframe tbody tr th:only-of-type {\n",
       "        vertical-align: middle;\n",
       "    }\n",
       "\n",
       "    .dataframe tbody tr th {\n",
       "        vertical-align: top;\n",
       "    }\n",
       "\n",
       "    .dataframe thead th {\n",
       "        text-align: right;\n",
       "    }\n",
       "</style>\n",
       "<table border=\"1\" class=\"dataframe\">\n",
       "  <thead>\n",
       "    <tr style=\"text-align: right;\">\n",
       "      <th></th>\n",
       "      <th>Name</th>\n",
       "      <th>Age</th>\n",
       "      <th>Occupation</th>\n",
       "    </tr>\n",
       "  </thead>\n",
       "  <tbody>\n",
       "    <tr>\n",
       "      <th>0</th>\n",
       "      <td>Vijay</td>\n",
       "      <td>23</td>\n",
       "      <td>Engineer</td>\n",
       "    </tr>\n",
       "    <tr>\n",
       "      <th>1</th>\n",
       "      <td>Vinay</td>\n",
       "      <td>25</td>\n",
       "      <td>Student</td>\n",
       "    </tr>\n",
       "    <tr>\n",
       "      <th>2</th>\n",
       "      <td>Jane</td>\n",
       "      <td>37</td>\n",
       "      <td>Doctor</td>\n",
       "    </tr>\n",
       "  </tbody>\n",
       "</table>\n",
       "</div>"
      ],
      "text/plain": [
       "    Name  Age Occupation\n",
       "0  Vijay   23   Engineer\n",
       "1  Vinay   25    Student\n",
       "2   Jane   37     Doctor"
      ]
     },
     "execution_count": 36,
     "metadata": {},
     "output_type": "execute_result"
    }
   ],
   "source": [
    "d = {'Name':['Vijay','Vinay','Jane'],'Age':[23,25,37],'Occupation':['Engineer','Student','Doctor']}\n",
    "df = pd.DataFrame(d)\n",
    "df"
   ]
  },
  {
   "cell_type": "code",
   "execution_count": null,
   "metadata": {},
   "outputs": [],
   "source": [
    "## HOW CAN WE READ FROM A CSV FILE."
   ]
  },
  {
   "cell_type": "code",
   "execution_count": null,
   "metadata": {},
   "outputs": [],
   "source": []
  },
  {
   "cell_type": "code",
   "execution_count": null,
   "metadata": {},
   "outputs": [],
   "source": []
  }
 ],
 "metadata": {
  "kernelspec": {
   "display_name": "Python 3",
   "language": "python",
   "name": "python3"
  },
  "language_info": {
   "codemirror_mode": {
    "name": "ipython",
    "version": 3
   },
   "file_extension": ".py",
   "mimetype": "text/x-python",
   "name": "python",
   "nbconvert_exporter": "python",
   "pygments_lexer": "ipython3",
   "version": "3.7.6"
  }
 },
 "nbformat": 4,
 "nbformat_minor": 4
}
