{
 "cells": [
  {
   "cell_type": "markdown",
   "metadata": {},
   "source": [
    "# Python Introduction\n",
    "## Date : 04-08-2020"
   ]
  },
  {
   "cell_type": "markdown",
   "metadata": {},
   "source": [
    "## Different Heading Types:\n",
    " \n",
    "# H1\n",
    "## H2\n",
    "### H3\n",
    "\n",
    "###### h6\n",
    "\n",
    "## Lists:\n",
    "\n",
    "* List1\n",
    "    * sublist1\n",
    "    * sublist2\n",
    "        * sub-sublist\n",
    "* List2\n",
    "\n",
    "## Number Lists:\n",
    "\n",
    "1. Numberlist 1\n",
    "2. Numberlist 2\n",
    "    1. sub num list\n",
    "    2. sub num list2\n",
    "        1. sub sub list1\n",
    "        2. sub sub list2\n",
    "        \n",
    "## hyper links\n",
    "\n",
    "[click here](https://www.gmail.com)\n",
    "\n",
    "## Insert Image\n",
    "\n",
    "<img src=\"markdown.jpg\" alt = \"Markdown\" height=200 width = 200>\n",
    "\n",
    "\n",
    "**Bold Text**\n",
    "\n",
    "*Italic Text*\n",
    "\n",
    "***BOLD and ITALIC***\n",
    "\n",
    "~~Strikeout~~"
   ]
  },
  {
   "cell_type": "code",
   "execution_count": 11,
   "metadata": {
    "scrolled": true
   },
   "outputs": [
    {
     "name": "stdout",
     "output_type": "stream",
     "text": [
      "<class 'int'>\n",
      "10 sindhu 50.62\n"
     ]
    }
   ],
   "source": [
    "a = 10\n",
    "s = \"sindhu\"\n",
    "f = 50.62\n",
    "\n",
    "type(a)\n",
    "#print(type(f))\n",
    "#print(type(s))\n",
    "print(a,s,f)"
   ]
  },
  {
   "cell_type": "code",
   "execution_count": 13,
   "metadata": {},
   "outputs": [
    {
     "name": "stdout",
     "output_type": "stream",
     "text": [
      "<class 'int'>\n"
     ]
    }
   ],
   "source": [
    "print(type(a))"
   ]
  },
  {
   "cell_type": "code",
   "execution_count": null,
   "metadata": {},
   "outputs": [],
   "source": []
  }
 ],
 "metadata": {
  "kernelspec": {
   "display_name": "Python 3",
   "language": "python",
   "name": "python3"
  },
  "language_info": {
   "codemirror_mode": {
    "name": "ipython",
    "version": 3
   },
   "file_extension": ".py",
   "mimetype": "text/x-python",
   "name": "python",
   "nbconvert_exporter": "python",
   "pygments_lexer": "ipython3",
   "version": "3.7.6"
  }
 },
 "nbformat": 4,
 "nbformat_minor": 4
}
