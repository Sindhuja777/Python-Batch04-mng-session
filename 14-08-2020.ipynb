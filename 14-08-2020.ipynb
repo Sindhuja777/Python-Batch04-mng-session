{
 "cells": [
  {
   "cell_type": "code",
   "execution_count": 7,
   "metadata": {},
   "outputs": [
    {
     "data": {
      "text/plain": [
       "'this'"
      ]
     },
     "execution_count": 7,
     "metadata": {},
     "output_type": "execute_result"
    }
   ],
   "source": [
    "f = open(\"data.txt\",\"r\")\n",
    "f.read(4)"
   ]
  },
  {
   "cell_type": "code",
   "execution_count": 8,
   "metadata": {},
   "outputs": [
    {
     "data": {
      "text/plain": [
       "' is sample file.\\nthis is 11th session.'"
      ]
     },
     "execution_count": 8,
     "metadata": {},
     "output_type": "execute_result"
    }
   ],
   "source": [
    "info = f.read()\n",
    "info"
   ]
  },
  {
   "cell_type": "code",
   "execution_count": 9,
   "metadata": {
    "scrolled": false
   },
   "outputs": [],
   "source": [
    "file1 = open(\"file.txt\",\"w\")\n",
    "file1.write(\"This is a testing file for write method.\")\n",
    "file1.close()"
   ]
  },
  {
   "cell_type": "code",
   "execution_count": null,
   "metadata": {},
   "outputs": [],
   "source": [
    "with open(\"file.txt\",\"w\") as f:\n",
    "    f.write(\"this is write method example and i think this may work fine.\")"
   ]
  },
  {
   "cell_type": "code",
   "execution_count": null,
   "metadata": {},
   "outputs": [],
   "source": [
    "with open(\"file.txt\",\"a\") as f:\n",
    "    f.write(\"This is by using append method.\")"
   ]
  },
  {
   "cell_type": "code",
   "execution_count": 16,
   "metadata": {},
   "outputs": [
    {
     "name": "stdout",
     "output_type": "stream",
     "text": [
      "4\n",
      " is \n",
      "8\n",
      "15\n",
      "file\n"
     ]
    }
   ],
   "source": [
    "with open(\"data.txt\",\"r\") as f:\n",
    "    f.read(4)\n",
    "    print(f.tell())\n",
    "    print(f.read(4))\n",
    "    print(f.tell())\n",
    "    f.seek(15)\n",
    "    print(f.tell())\n",
    "    print(f.read(4))"
   ]
  },
  {
   "cell_type": "code",
   "execution_count": 19,
   "metadata": {
    "scrolled": true
   },
   "outputs": [
    {
     "data": {
      "text/plain": [
       "'this is sample file.\\nthis is 11th session.\\nwe are going to discuss about file handling methods.\\npython progrmaming online session.'"
      ]
     },
     "execution_count": 19,
     "metadata": {},
     "output_type": "execute_result"
    }
   ],
   "source": [
    "# Write a python program to print the data by using functions\n",
    "def ReadFile(filename):\n",
    "    with open(filename,\"r\") as f:\n",
    "        filedata = f.read()\n",
    "    return filedata\n",
    "#print(ReadFile(\"data.txt\"))\n",
    "ReadFile(\"data.txt\")"
   ]
  },
  {
   "cell_type": "code",
   "execution_count": 27,
   "metadata": {},
   "outputs": [
    {
     "data": {
      "text/plain": [
       "4"
      ]
     },
     "execution_count": 27,
     "metadata": {},
     "output_type": "execute_result"
    }
   ],
   "source": [
    "# Write a python program to count the number of lines.\n",
    "def no_of_lines(filename):\n",
    "    with open(filename,\"r\") as f:\n",
    "        filedata = f.readlines()\n",
    "        #print(filedata)\n",
    "        '''count = 0\n",
    "        for line in filedata:\n",
    "            count+=1\n",
    "    return count'''\n",
    "    return len(filedata)\n",
    "no_of_lines(\"data.txt\")"
   ]
  },
  {
   "cell_type": "code",
   "execution_count": 31,
   "metadata": {
    "scrolled": true
   },
   "outputs": [
    {
     "data": {
      "text/plain": [
       "21"
      ]
     },
     "execution_count": 31,
     "metadata": {},
     "output_type": "execute_result"
    }
   ],
   "source": [
    "# Write a python script to count the number of words in a file.\n",
    "def no_of_words(filename):\n",
    "    with open(filename,\"r\") as f:\n",
    "        count = 0\n",
    "        filedata = f.readlines()\n",
    "        for line in filedata:\n",
    "            #print(line)\n",
    "            words = line.split()\n",
    "            #print(words_list)\n",
    "            count += len(words)\n",
    "            #print(count)\n",
    "    return count\n",
    "no_of_words(\"data.txt\")"
   ]
  },
  {
   "cell_type": "code",
   "execution_count": 32,
   "metadata": {},
   "outputs": [
    {
     "data": {
      "text/plain": [
       "{'this': 2,\n",
       " 'is': 2,\n",
       " 'sample': 1,\n",
       " 'file.': 1,\n",
       " '11th': 1,\n",
       " 'session.': 2,\n",
       " 'we': 1,\n",
       " 'are': 1,\n",
       " 'going': 1,\n",
       " 'to': 1,\n",
       " 'discuss': 1,\n",
       " 'about': 1,\n",
       " 'file': 1,\n",
       " 'handling': 1,\n",
       " 'methods.': 1,\n",
       " 'python': 1,\n",
       " 'progrmaming': 1,\n",
       " 'online': 1}"
      ]
     },
     "execution_count": 32,
     "metadata": {},
     "output_type": "execute_result"
    }
   ],
   "source": [
    "# Write a python script to print the frequency of each words in a file.\n",
    "def no_of_words(filename):\n",
    "    with open(filename,\"r\") as f:\n",
    "        word_freq = {}\n",
    "        filedata = f.readlines()\n",
    "        for line in filedata:\n",
    "            #print(line)\n",
    "            words = line.split()\n",
    "            for word in words:\n",
    "                if word in word_freq:\n",
    "                    word_freq[word] += 1\n",
    "                else:\n",
    "                    word_freq[word] = 1\n",
    "    return word_freq\n",
    "no_of_words(\"data.txt\")"
   ]
  },
  {
   "cell_type": "code",
   "execution_count": null,
   "metadata": {},
   "outputs": [],
   "source": []
  }
 ],
 "metadata": {
  "kernelspec": {
   "display_name": "Python 3",
   "language": "python",
   "name": "python3"
  },
  "language_info": {
   "codemirror_mode": {
    "name": "ipython",
    "version": 3
   },
   "file_extension": ".py",
   "mimetype": "text/x-python",
   "name": "python",
   "nbconvert_exporter": "python",
   "pygments_lexer": "ipython3",
   "version": "3.7.6"
  }
 },
 "nbformat": 4,
 "nbformat_minor": 4
}
