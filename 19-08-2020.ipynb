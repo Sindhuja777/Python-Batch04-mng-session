{
 "cells": [
  {
   "cell_type": "code",
   "execution_count": 30,
   "metadata": {},
   "outputs": [],
   "source": [
    "class Student: # Class declaration\n",
    "    name = \"John\"\n",
    "    rollno = 203\n",
    "    def __init__(self): # Default Constructor\n",
    "        pass"
   ]
  },
  {
   "cell_type": "code",
   "execution_count": 31,
   "metadata": {},
   "outputs": [],
   "source": [
    "student1 = Student() # Object creation"
   ]
  },
  {
   "cell_type": "code",
   "execution_count": 32,
   "metadata": {},
   "outputs": [
    {
     "data": {
      "text/plain": [
       "'John'"
      ]
     },
     "execution_count": 32,
     "metadata": {},
     "output_type": "execute_result"
    }
   ],
   "source": [
    "student1.name"
   ]
  },
  {
   "cell_type": "code",
   "execution_count": 33,
   "metadata": {},
   "outputs": [
    {
     "data": {
      "text/plain": [
       "203"
      ]
     },
     "execution_count": 33,
     "metadata": {},
     "output_type": "execute_result"
    }
   ],
   "source": [
    "student1.rollno"
   ]
  },
  {
   "cell_type": "code",
   "execution_count": 5,
   "metadata": {},
   "outputs": [],
   "source": [
    "student2 = Student()"
   ]
  },
  {
   "cell_type": "code",
   "execution_count": 6,
   "metadata": {},
   "outputs": [
    {
     "data": {
      "text/plain": [
       "'John'"
      ]
     },
     "execution_count": 6,
     "metadata": {},
     "output_type": "execute_result"
    }
   ],
   "source": [
    "student2.name"
   ]
  },
  {
   "cell_type": "code",
   "execution_count": 7,
   "metadata": {},
   "outputs": [],
   "source": [
    "class Employee:\n",
    "    name = \"James\"\n",
    "    age = 31\n",
    "    def display(self):\n",
    "        print(self.name,self.age)"
   ]
  },
  {
   "cell_type": "code",
   "execution_count": 9,
   "metadata": {},
   "outputs": [],
   "source": [
    "emp1 = Employee()\n",
    "emp2 = Employee()"
   ]
  },
  {
   "cell_type": "code",
   "execution_count": 10,
   "metadata": {},
   "outputs": [
    {
     "name": "stdout",
     "output_type": "stream",
     "text": [
      "James 31\n"
     ]
    }
   ],
   "source": [
    "emp1.display() # emp1.name and emp1.age"
   ]
  },
  {
   "cell_type": "code",
   "execution_count": null,
   "metadata": {},
   "outputs": [],
   "source": [
    "emp2.display()"
   ]
  },
  {
   "cell_type": "markdown",
   "metadata": {},
   "source": [
    "## Constructors"
   ]
  },
  {
   "cell_type": "markdown",
   "metadata": {},
   "source": [
    "def __init__(self):"
   ]
  },
  {
   "cell_type": "code",
   "execution_count": 18,
   "metadata": {},
   "outputs": [],
   "source": [
    "# Parametrized Constructor\n",
    "class Student:\n",
    "    def __init__(self,name,branch,dist):\n",
    "        self.name = name\n",
    "        self.branch = branch\n",
    "        self.dist = dist\n",
    "    def show(self):\n",
    "        print(\"My name is {} from {} branch and lived in {} district.\".format(self.name,self.branch,self.dist))"
   ]
  },
  {
   "cell_type": "code",
   "execution_count": 21,
   "metadata": {},
   "outputs": [],
   "source": [
    "sindhu = Student(\"Sindhu\",\"CSE\",\"EastGodavari\") \n",
    "siri = Student(\"Sirisha\",\"ECE\",\"Vijayanagaram\")"
   ]
  },
  {
   "cell_type": "code",
   "execution_count": 22,
   "metadata": {},
   "outputs": [
    {
     "name": "stdout",
     "output_type": "stream",
     "text": [
      "My name is Sindhu from CSE branch and lived in EastGodavari district.\n"
     ]
    }
   ],
   "source": [
    "sindhu.show()"
   ]
  },
  {
   "cell_type": "code",
   "execution_count": 23,
   "metadata": {},
   "outputs": [
    {
     "name": "stdout",
     "output_type": "stream",
     "text": [
      "My name is Sirisha from ECE branch and lived in Vijayanagaram district.\n"
     ]
    }
   ],
   "source": [
    "siri.show()"
   ]
  },
  {
   "cell_type": "code",
   "execution_count": 27,
   "metadata": {},
   "outputs": [],
   "source": [
    "# Default Constructor\n",
    "class apssdc:\n",
    "    def __init__(self):\n",
    "        self.program = \"Python Programming\"\n",
    "        self.duration = 120\n",
    "    def display(self):\n",
    "        print(\"Online Program name: {} and Duration in Minutes :{} min\".format(self.program,self.duration))"
   ]
  },
  {
   "cell_type": "code",
   "execution_count": 28,
   "metadata": {},
   "outputs": [],
   "source": [
    "pd = apssdc()"
   ]
  },
  {
   "cell_type": "code",
   "execution_count": 29,
   "metadata": {},
   "outputs": [
    {
     "name": "stdout",
     "output_type": "stream",
     "text": [
      "Online Program name: Python Programming and Duration in Minutes :120 min\n"
     ]
    }
   ],
   "source": [
    "pd.display()"
   ]
  },
  {
   "cell_type": "markdown",
   "metadata": {},
   "source": [
    "## Single Inheritance\n",
    "\n",
    "class base:\n",
    "    methods\n",
    "class derived(base):\n",
    "    methods"
   ]
  },
  {
   "cell_type": "code",
   "execution_count": 43,
   "metadata": {},
   "outputs": [],
   "source": [
    "class Parent:\n",
    "    def parent_display(self):\n",
    "        print(\"This is the method in parent class.\")\n",
    "class Child(Parent):\n",
    "    def child_display(self):\n",
    "        print(\"Hi i am derived class.\")"
   ]
  },
  {
   "cell_type": "code",
   "execution_count": 44,
   "metadata": {},
   "outputs": [],
   "source": [
    "child1 = Child()"
   ]
  },
  {
   "cell_type": "code",
   "execution_count": 45,
   "metadata": {},
   "outputs": [
    {
     "name": "stdout",
     "output_type": "stream",
     "text": [
      "Hi i am derived class.\n"
     ]
    }
   ],
   "source": [
    "child1.child_display()"
   ]
  },
  {
   "cell_type": "code",
   "execution_count": 46,
   "metadata": {},
   "outputs": [
    {
     "name": "stdout",
     "output_type": "stream",
     "text": [
      "This is the method in parent class.\n"
     ]
    }
   ],
   "source": [
    "child1.parent_display()"
   ]
  },
  {
   "cell_type": "markdown",
   "metadata": {},
   "source": [
    "## Multilevel Inheritance"
   ]
  },
  {
   "cell_type": "code",
   "execution_count": 50,
   "metadata": {},
   "outputs": [],
   "source": [
    "class Grand_Parent:\n",
    "    def Gdisplay(self):\n",
    "        print(\"Grand Parent\")\n",
    "class Parent(Grand_Parent):\n",
    "    def Pdisplay(self):\n",
    "        print(\"Parent\")\n",
    "class Child(Parent):\n",
    "    def Cdisplay(self):\n",
    "        print(\"Child\")"
   ]
  },
  {
   "cell_type": "code",
   "execution_count": 51,
   "metadata": {},
   "outputs": [],
   "source": [
    "pobj = Parent()"
   ]
  },
  {
   "cell_type": "code",
   "execution_count": 55,
   "metadata": {},
   "outputs": [
    {
     "name": "stdout",
     "output_type": "stream",
     "text": [
      "Grand Parent\n",
      "Parent\n"
     ]
    }
   ],
   "source": [
    "pobj.Gdisplay()\n",
    "pobj.Pdisplay()\n"
   ]
  },
  {
   "cell_type": "code",
   "execution_count": 56,
   "metadata": {},
   "outputs": [],
   "source": [
    "cobj = Child()"
   ]
  },
  {
   "cell_type": "code",
   "execution_count": 57,
   "metadata": {},
   "outputs": [
    {
     "name": "stdout",
     "output_type": "stream",
     "text": [
      "Grand Parent\n",
      "Parent\n",
      "Child\n"
     ]
    }
   ],
   "source": [
    "cobj.Gdisplay()\n",
    "cobj.Pdisplay()\n",
    "cobj.Cdisplay()"
   ]
  },
  {
   "cell_type": "markdown",
   "metadata": {},
   "source": [
    "## Heirarchial Inheritance"
   ]
  },
  {
   "cell_type": "code",
   "execution_count": 58,
   "metadata": {},
   "outputs": [],
   "source": [
    "class Parent:\n",
    "    def parent_show(self):\n",
    "        print(\"This is parent class.\")\n",
    "class C1(Parent):\n",
    "    def child1_show(self):\n",
    "        print(\"I am child 1 derived from Parent\")\n",
    "class C2(Parent):\n",
    "    def child2_show(self):\n",
    "        print(\"I am child2 derived from parent which is already derived child1\")"
   ]
  },
  {
   "cell_type": "code",
   "execution_count": 59,
   "metadata": {},
   "outputs": [],
   "source": [
    "c1 = C1()\n",
    "c2 = C2()"
   ]
  },
  {
   "cell_type": "code",
   "execution_count": 61,
   "metadata": {},
   "outputs": [
    {
     "name": "stdout",
     "output_type": "stream",
     "text": [
      "This is parent class.\n",
      "I am child 1 derived from Parent\n"
     ]
    }
   ],
   "source": [
    "c1.parent_show()\n",
    "c1.child1_show()"
   ]
  },
  {
   "cell_type": "code",
   "execution_count": 62,
   "metadata": {},
   "outputs": [
    {
     "name": "stdout",
     "output_type": "stream",
     "text": [
      "This is parent class.\n",
      "I am child2 derived from parent which is already derived child1\n"
     ]
    }
   ],
   "source": [
    "c2.parent_show()\n",
    "c2.child2_show()"
   ]
  },
  {
   "cell_type": "code",
   "execution_count": null,
   "metadata": {},
   "outputs": [],
   "source": []
  }
 ],
 "metadata": {
  "kernelspec": {
   "display_name": "Python 3",
   "language": "python",
   "name": "python3"
  },
  "language_info": {
   "codemirror_mode": {
    "name": "ipython",
    "version": 3
   },
   "file_extension": ".py",
   "mimetype": "text/x-python",
   "name": "python",
   "nbconvert_exporter": "python",
   "pygments_lexer": "ipython3",
   "version": "3.7.6"
  }
 },
 "nbformat": 4,
 "nbformat_minor": 4
}
