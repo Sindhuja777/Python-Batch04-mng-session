{
 "cells": [
  {
   "cell_type": "markdown",
   "metadata": {},
   "source": [
    "## Regular Expressions \n",
    "\n",
    "**Regular Expression**:  It is a search pattern.\n",
    "\n",
    "- Built-in Functions\n",
    "    - findall()\n",
    "    - search()\n",
    "    - split()\n",
    "    - sub()\n",
    "- Special Sequences\n",
    "    - \\d - used to match all the digits in a  given string.(0-9)\n",
    "    - \\D - this matches all non-digit characters.\n",
    "    - \\s -  used to match the spaces.\n",
    "    - \\S - used to match non-spaces.\n",
    "    - \\w - matches all the characters i.e., a-z A-Z 0-9\n",
    "    - \\W - matches all non-characters\n",
    "    - \\Z - used to check whether a given string is endswith the pattern.\n",
    "- Metacharacters\n",
    "    - * used to match zero or more occurences of a character.\n",
    "    - + used to match one or more occurences of a char\n",
    "    - [] - to match a range of characters or digits.\n",
    "    - {} - used to restrict the no of occurences\n",
    "    - ? - used to match one or zero occurences of a char\n",
    "    - ^ - used to know the string is starts with particular pattern.\n",
    "    - $ - works as endswith method in strings\n",
    "- Packages and Modules in python"
   ]
  },
  {
   "cell_type": "code",
   "execution_count": null,
   "metadata": {},
   "outputs": [],
   "source": []
  },
  {
   "cell_type": "code",
   "execution_count": null,
   "metadata": {},
   "outputs": [],
   "source": []
  },
  {
   "cell_type": "markdown",
   "metadata": {},
   "source": [
    "## Built-in Methods in RegEx\n",
    "\n",
    "- We have to import a module called re to use the functionalities of regular Expressions\n",
    "\n",
    "**search()**: It returns match object if the pattern searching is successful or else it returns None.\n",
    "- Syntax: re.search(pattern,string)"
   ]
  },
  {
   "cell_type": "code",
   "execution_count": 16,
   "metadata": {},
   "outputs": [
    {
     "name": "stdout",
     "output_type": "stream",
     "text": [
      "<re.Match object; span=(0, 4), match='This'>\n",
      "<re.Match object; span=(4, 5), match=' '>\n"
     ]
    }
   ],
   "source": [
    "import re\n",
    "string = \"This is 10th ses2020sion for python3 progr56ammi290ng online12 course\"\n",
    "pattern = \"^This\"\n",
    "print(re.search(pattern,string))\n",
    "re.search(\"se$\",string)\n",
    "print(re.search(\"\\s\",string))"
   ]
  },
  {
   "cell_type": "markdown",
   "metadata": {},
   "source": [
    "### findall()\n",
    "\n",
    "- This method returns a list of all the matches or it will return an empty if match not found.\n",
    "- Syntax: re.findall(pattern,string_name)"
   ]
  },
  {
   "cell_type": "code",
   "execution_count": 12,
   "metadata": {},
   "outputs": [
    {
     "data": {
      "text/plain": [
       "['10', '2020', '3', '56', '290', '12']"
      ]
     },
     "execution_count": 12,
     "metadata": {},
     "output_type": "execute_result"
    }
   ],
   "source": [
    "re.findall(\"\\d+\",string)"
   ]
  },
  {
   "cell_type": "markdown",
   "metadata": {},
   "source": [
    "### Split()\n",
    "\n",
    "- This splits the string where the pattern match found.\n",
    "\n",
    "- Syntax: re.split(pattern,string,(opt)no_of_splits)"
   ]
  },
  {
   "cell_type": "code",
   "execution_count": 18,
   "metadata": {
    "scrolled": true
   },
   "outputs": [
    {
     "data": {
      "text/plain": [
       "['Th',\n",
       " 's ',\n",
       " 's 10th ses2020s',\n",
       " 'on for python3 progr56amm',\n",
       " '290ng onl',\n",
       " 'ne12 course']"
      ]
     },
     "execution_count": 18,
     "metadata": {},
     "output_type": "execute_result"
    }
   ],
   "source": [
    "string = \"This is 10th ses2020sion for python3 progr56ammi290ng online12 course\"\n",
    "pattern = \"i\"\n",
    "re.split(pattern,string)"
   ]
  },
  {
   "cell_type": "code",
   "execution_count": 20,
   "metadata": {},
   "outputs": [
    {
     "data": {
      "text/plain": [
       "['This',\n",
       " 'is',\n",
       " '10th',\n",
       " 'ses2020sion',\n",
       " 'for python3 progr56ammi290ng online12 course']"
      ]
     },
     "execution_count": 20,
     "metadata": {},
     "output_type": "execute_result"
    }
   ],
   "source": [
    "re.split(\"\\s\",string,4) # no of splits 4 so we get 5 words."
   ]
  },
  {
   "cell_type": "markdown",
   "metadata": {},
   "source": [
    "## sub()\n",
    "\n",
    "- used to replace the old string or pattern with the given new string.\n",
    "\n",
    "- Syntax: sub(pattern,replace,string,(opt)no_of_replacements)"
   ]
  },
  {
   "cell_type": "code",
   "execution_count": 22,
   "metadata": {},
   "outputs": [
    {
     "data": {
      "text/plain": [
       "'This is th session for python programming online course'"
      ]
     },
     "execution_count": 22,
     "metadata": {},
     "output_type": "execute_result"
    }
   ],
   "source": [
    "string = \"This is 10th ses2020sion for python3 progr56ammi290ng online12 course\"\n",
    "pattern = \"\\d+\"\n",
    "re.sub(pattern,\"\",string)"
   ]
  },
  {
   "cell_type": "code",
   "execution_count": 23,
   "metadata": {},
   "outputs": [
    {
     "data": {
      "text/plain": [
       "'This@is@10th@ses2020sion@for@python3@progr56ammi290ng@online12@course'"
      ]
     },
     "execution_count": 23,
     "metadata": {},
     "output_type": "execute_result"
    }
   ],
   "source": [
    "re.sub(\"\\s\",\"@\",string)"
   ]
  },
  {
   "cell_type": "code",
   "execution_count": 24,
   "metadata": {},
   "outputs": [
    {
     "data": {
      "text/plain": [
       "'This#is#10th#ses2020sion#for#python3 progr56ammi290ng online12 course'"
      ]
     },
     "execution_count": 24,
     "metadata": {},
     "output_type": "execute_result"
    }
   ],
   "source": [
    "re.sub(\"\\s\",\"#\",string,5)"
   ]
  },
  {
   "cell_type": "markdown",
   "metadata": {},
   "source": [
    "## Phone number Validation\n",
    "\n",
    "- it should contain only 10 digits.\n",
    "- starts with 6 or 7 or 8 or 9\n",
    "- +91"
   ]
  },
  {
   "cell_type": "code",
   "execution_count": 26,
   "metadata": {
    "scrolled": true
   },
   "outputs": [
    {
     "name": "stdout",
     "output_type": "stream",
     "text": [
      "5789012369\n",
      "Invalid\n"
     ]
    }
   ],
   "source": [
    "def phone_num_validation(phone_num):\n",
    "    pattern = \"^[6-9][0-9]{9}$\"\n",
    "    if re.match(pattern,phone_num):\n",
    "        print(\"Valid\")\n",
    "    else:\n",
    "        print(\"Invalid\")\n",
    "phone_num_validation(input())"
   ]
  },
  {
   "cell_type": "code",
   "execution_count": null,
   "metadata": {},
   "outputs": [],
   "source": [
    "# Write a python script to validate the phone number with country code.(+91)"
   ]
  },
  {
   "cell_type": "markdown",
   "metadata": {},
   "source": [
    "## Modules and Packages\n",
    "\n",
    "- Package : Collection of Modules or it is a folder which contails modules or .py files.\n",
    "- Module : Module is nothing but a .py file which contains functions or methods.\n",
    "\n",
    "    - We have two types of Modules:\n",
    "    \n",
    "        1) Built-in Module : re,math etc\n",
    "        \n",
    "        2) Userdefined Module : Which are created by user."
   ]
  },
  {
   "cell_type": "code",
   "execution_count": 27,
   "metadata": {},
   "outputs": [],
   "source": [
    "import math"
   ]
  },
  {
   "cell_type": "code",
   "execution_count": 29,
   "metadata": {},
   "outputs": [
    {
     "data": {
      "text/plain": [
       "7.0"
      ]
     },
     "execution_count": 29,
     "metadata": {},
     "output_type": "execute_result"
    }
   ],
   "source": [
    "math.sqrt(49)"
   ]
  },
  {
   "cell_type": "code",
   "execution_count": 30,
   "metadata": {},
   "outputs": [
    {
     "data": {
      "text/plain": [
       "27.49545416973504"
      ]
     },
     "execution_count": 30,
     "metadata": {},
     "output_type": "execute_result"
    }
   ],
   "source": [
    "math.sqrt(756)"
   ]
  },
  {
   "cell_type": "code",
   "execution_count": 31,
   "metadata": {},
   "outputs": [
    {
     "data": {
      "text/plain": [
       "27"
      ]
     },
     "execution_count": 31,
     "metadata": {},
     "output_type": "execute_result"
    }
   ],
   "source": [
    "math.floor(27.49545416973504)"
   ]
  },
  {
   "cell_type": "code",
   "execution_count": 32,
   "metadata": {},
   "outputs": [
    {
     "data": {
      "text/plain": [
       "28"
      ]
     },
     "execution_count": 32,
     "metadata": {},
     "output_type": "execute_result"
    }
   ],
   "source": [
    "math.ceil(27.49545416973504)"
   ]
  },
  {
   "cell_type": "code",
   "execution_count": 35,
   "metadata": {},
   "outputs": [],
   "source": [
    "import my_module as md"
   ]
  },
  {
   "cell_type": "code",
   "execution_count": 37,
   "metadata": {},
   "outputs": [
    {
     "data": {
      "text/plain": [
       "'Not a Palindrome'"
      ]
     },
     "execution_count": 37,
     "metadata": {},
     "output_type": "execute_result"
    }
   ],
   "source": [
    "md.palindrome(\"madam\")\n",
    "md.palindrome(\"mother\")"
   ]
  },
  {
   "cell_type": "code",
   "execution_count": 41,
   "metadata": {},
   "outputs": [
    {
     "data": {
      "text/plain": [
       "1"
      ]
     },
     "execution_count": 41,
     "metadata": {},
     "output_type": "execute_result"
    }
   ],
   "source": [
    "md.factorial(5)\n",
    "md.factorial(0)"
   ]
  },
  {
   "cell_type": "code",
   "execution_count": null,
   "metadata": {},
   "outputs": [],
   "source": []
  },
  {
   "cell_type": "code",
   "execution_count": null,
   "metadata": {},
   "outputs": [],
   "source": []
  },
  {
   "cell_type": "code",
   "execution_count": null,
   "metadata": {},
   "outputs": [],
   "source": []
  }
 ],
 "metadata": {
  "kernelspec": {
   "display_name": "Python 3",
   "language": "python",
   "name": "python3"
  },
  "language_info": {
   "codemirror_mode": {
    "name": "ipython",
    "version": 3
   },
   "file_extension": ".py",
   "mimetype": "text/x-python",
   "name": "python",
   "nbconvert_exporter": "python",
   "pygments_lexer": "ipython3",
   "version": "3.7.6"
  }
 },
 "nbformat": 4,
 "nbformat_minor": 4
}
